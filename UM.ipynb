{
 "cells": [
  {
   "cell_type": "markdown",
   "metadata": {},
   "source": [
    "Pomysłem na rozwiązanie problemu rekomendacji jest stworzenie sieci neuronowej, która oceni filmy zgodnie z preferencjami danego użytkownika.\n",
    "\n",
    " W tym celu planuję przygotować dane, aby wektor wejściowy do sieci zawierał zarówno reprezentację ocenianego filmu, jak i reprezentację użytkownika. Posiadam jedynie dane dotyczące preferencji użytkowników, zatem będzie to jedyny wyznacznik."
   ]
  },
  {
   "cell_type": "code",
   "execution_count": 1,
   "metadata": {},
   "outputs": [],
   "source": [
    "import pandas as pd\n",
    "movie=pd.read_csv(r\"ml-25m\\movies.csv\")\n",
    "rat=pd.read_csv(r\"ml-25m\\ratings.csv\")\n",
    "tag=pd.read_csv(r\"ml-25m\\tags.csv\")\n",
    "gs=pd.read_csv(r\"ml-25m\\genome-scores.csv\")\n",
    "gt=pd.read_csv(r\"ml-25m\\genome-tags.csv\")"
   ]
  },
  {
   "cell_type": "markdown",
   "metadata": {},
   "source": [
    "**Zaczniemy od reorganizacji danych z tabeli genome_scores.**\n",
    "\n",
    "Dostaracza ona dużo informacji na temat treści filmu. Filmy są tam ocenione pod względem zawartości ponad 1000 tagów. Są podane jednak w oszczędnej dla pamięci formie, więc zreorganizuję tabele aby dostoswać ją pod wygodny wektor danych.\n",
    " "
   ]
  },
  {
   "cell_type": "code",
   "execution_count": 2,
   "metadata": {},
   "outputs": [
    {
     "data": {
      "text/html": [
       "<div>\n",
       "<style scoped>\n",
       "    .dataframe tbody tr th:only-of-type {\n",
       "        vertical-align: middle;\n",
       "    }\n",
       "\n",
       "    .dataframe tbody tr th {\n",
       "        vertical-align: top;\n",
       "    }\n",
       "\n",
       "    .dataframe thead th {\n",
       "        text-align: right;\n",
       "    }\n",
       "</style>\n",
       "<table border=\"1\" class=\"dataframe\">\n",
       "  <thead>\n",
       "    <tr style=\"text-align: right;\">\n",
       "      <th></th>\n",
       "      <th>1</th>\n",
       "      <th>2</th>\n",
       "      <th>3</th>\n",
       "      <th>4</th>\n",
       "      <th>5</th>\n",
       "      <th>6</th>\n",
       "      <th>7</th>\n",
       "      <th>8</th>\n",
       "      <th>9</th>\n",
       "      <th>10</th>\n",
       "      <th>...</th>\n",
       "      <th>1119</th>\n",
       "      <th>1120</th>\n",
       "      <th>1121</th>\n",
       "      <th>1122</th>\n",
       "      <th>1123</th>\n",
       "      <th>1124</th>\n",
       "      <th>1125</th>\n",
       "      <th>1126</th>\n",
       "      <th>1127</th>\n",
       "      <th>1128</th>\n",
       "    </tr>\n",
       "    <tr>\n",
       "      <th>movieId</th>\n",
       "      <th></th>\n",
       "      <th></th>\n",
       "      <th></th>\n",
       "      <th></th>\n",
       "      <th></th>\n",
       "      <th></th>\n",
       "      <th></th>\n",
       "      <th></th>\n",
       "      <th></th>\n",
       "      <th></th>\n",
       "      <th></th>\n",
       "      <th></th>\n",
       "      <th></th>\n",
       "      <th></th>\n",
       "      <th></th>\n",
       "      <th></th>\n",
       "      <th></th>\n",
       "      <th></th>\n",
       "      <th></th>\n",
       "      <th></th>\n",
       "      <th></th>\n",
       "    </tr>\n",
       "  </thead>\n",
       "  <tbody>\n",
       "    <tr>\n",
       "      <th>1</th>\n",
       "      <td>0.02875</td>\n",
       "      <td>0.02375</td>\n",
       "      <td>0.06250</td>\n",
       "      <td>0.07575</td>\n",
       "      <td>0.14075</td>\n",
       "      <td>0.14675</td>\n",
       "      <td>0.06350</td>\n",
       "      <td>0.20375</td>\n",
       "      <td>0.2020</td>\n",
       "      <td>0.03075</td>\n",
       "      <td>...</td>\n",
       "      <td>0.04050</td>\n",
       "      <td>0.01425</td>\n",
       "      <td>0.03050</td>\n",
       "      <td>0.03500</td>\n",
       "      <td>0.14125</td>\n",
       "      <td>0.05775</td>\n",
       "      <td>0.03900</td>\n",
       "      <td>0.02975</td>\n",
       "      <td>0.08475</td>\n",
       "      <td>0.02200</td>\n",
       "    </tr>\n",
       "    <tr>\n",
       "      <th>2</th>\n",
       "      <td>0.04125</td>\n",
       "      <td>0.04050</td>\n",
       "      <td>0.06275</td>\n",
       "      <td>0.08275</td>\n",
       "      <td>0.09100</td>\n",
       "      <td>0.06125</td>\n",
       "      <td>0.06925</td>\n",
       "      <td>0.09600</td>\n",
       "      <td>0.0765</td>\n",
       "      <td>0.05250</td>\n",
       "      <td>...</td>\n",
       "      <td>0.05250</td>\n",
       "      <td>0.01575</td>\n",
       "      <td>0.01250</td>\n",
       "      <td>0.02000</td>\n",
       "      <td>0.12225</td>\n",
       "      <td>0.03275</td>\n",
       "      <td>0.02100</td>\n",
       "      <td>0.01100</td>\n",
       "      <td>0.10525</td>\n",
       "      <td>0.01975</td>\n",
       "    </tr>\n",
       "    <tr>\n",
       "      <th>3</th>\n",
       "      <td>0.04675</td>\n",
       "      <td>0.05550</td>\n",
       "      <td>0.02925</td>\n",
       "      <td>0.08700</td>\n",
       "      <td>0.04750</td>\n",
       "      <td>0.04775</td>\n",
       "      <td>0.04600</td>\n",
       "      <td>0.14275</td>\n",
       "      <td>0.0285</td>\n",
       "      <td>0.03875</td>\n",
       "      <td>...</td>\n",
       "      <td>0.06275</td>\n",
       "      <td>0.01950</td>\n",
       "      <td>0.02225</td>\n",
       "      <td>0.02300</td>\n",
       "      <td>0.12200</td>\n",
       "      <td>0.03475</td>\n",
       "      <td>0.01700</td>\n",
       "      <td>0.01800</td>\n",
       "      <td>0.09100</td>\n",
       "      <td>0.01775</td>\n",
       "    </tr>\n",
       "    <tr>\n",
       "      <th>4</th>\n",
       "      <td>0.03425</td>\n",
       "      <td>0.03800</td>\n",
       "      <td>0.04050</td>\n",
       "      <td>0.03100</td>\n",
       "      <td>0.06500</td>\n",
       "      <td>0.03575</td>\n",
       "      <td>0.02900</td>\n",
       "      <td>0.08650</td>\n",
       "      <td>0.0320</td>\n",
       "      <td>0.03150</td>\n",
       "      <td>...</td>\n",
       "      <td>0.05325</td>\n",
       "      <td>0.02800</td>\n",
       "      <td>0.01675</td>\n",
       "      <td>0.03875</td>\n",
       "      <td>0.18200</td>\n",
       "      <td>0.07050</td>\n",
       "      <td>0.01625</td>\n",
       "      <td>0.01425</td>\n",
       "      <td>0.08850</td>\n",
       "      <td>0.01500</td>\n",
       "    </tr>\n",
       "    <tr>\n",
       "      <th>5</th>\n",
       "      <td>0.04300</td>\n",
       "      <td>0.05325</td>\n",
       "      <td>0.03800</td>\n",
       "      <td>0.04100</td>\n",
       "      <td>0.05400</td>\n",
       "      <td>0.06725</td>\n",
       "      <td>0.02775</td>\n",
       "      <td>0.07650</td>\n",
       "      <td>0.0215</td>\n",
       "      <td>0.02975</td>\n",
       "      <td>...</td>\n",
       "      <td>0.05350</td>\n",
       "      <td>0.02050</td>\n",
       "      <td>0.01425</td>\n",
       "      <td>0.02550</td>\n",
       "      <td>0.19225</td>\n",
       "      <td>0.02675</td>\n",
       "      <td>0.01625</td>\n",
       "      <td>0.01300</td>\n",
       "      <td>0.08700</td>\n",
       "      <td>0.01600</td>\n",
       "    </tr>\n",
       "  </tbody>\n",
       "</table>\n",
       "<p>5 rows × 1128 columns</p>\n",
       "</div>"
      ],
      "text/plain": [
       "            1        2        3        4        5        6        7     \\\n",
       "movieId                                                                  \n",
       "1        0.02875  0.02375  0.06250  0.07575  0.14075  0.14675  0.06350   \n",
       "2        0.04125  0.04050  0.06275  0.08275  0.09100  0.06125  0.06925   \n",
       "3        0.04675  0.05550  0.02925  0.08700  0.04750  0.04775  0.04600   \n",
       "4        0.03425  0.03800  0.04050  0.03100  0.06500  0.03575  0.02900   \n",
       "5        0.04300  0.05325  0.03800  0.04100  0.05400  0.06725  0.02775   \n",
       "\n",
       "            8       9        10    ...     1119     1120     1121     1122  \\\n",
       "movieId                            ...                                       \n",
       "1        0.20375  0.2020  0.03075  ...  0.04050  0.01425  0.03050  0.03500   \n",
       "2        0.09600  0.0765  0.05250  ...  0.05250  0.01575  0.01250  0.02000   \n",
       "3        0.14275  0.0285  0.03875  ...  0.06275  0.01950  0.02225  0.02300   \n",
       "4        0.08650  0.0320  0.03150  ...  0.05325  0.02800  0.01675  0.03875   \n",
       "5        0.07650  0.0215  0.02975  ...  0.05350  0.02050  0.01425  0.02550   \n",
       "\n",
       "            1123     1124     1125     1126     1127     1128  \n",
       "movieId                                                        \n",
       "1        0.14125  0.05775  0.03900  0.02975  0.08475  0.02200  \n",
       "2        0.12225  0.03275  0.02100  0.01100  0.10525  0.01975  \n",
       "3        0.12200  0.03475  0.01700  0.01800  0.09100  0.01775  \n",
       "4        0.18200  0.07050  0.01625  0.01425  0.08850  0.01500  \n",
       "5        0.19225  0.02675  0.01625  0.01300  0.08700  0.01600  \n",
       "\n",
       "[5 rows x 1128 columns]"
      ]
     },
     "execution_count": 2,
     "metadata": {},
     "output_type": "execute_result"
    }
   ],
   "source": [
    "\n",
    "data = gs.pivot(index='movieId', columns='tagId', values='relevance')\n",
    "data.columns.name = None\n",
    "data.head()"
   ]
  },
  {
   "cell_type": "markdown",
   "metadata": {},
   "source": [
    "**Kolejnym celem jest utworzenie reprezentacji uzytkownika**\n",
    "\n",
    "Postanowiłem zrobić to poprzez wektor jego ulubionych filmów, jako ze każdy film jest okreslony przez ponad 1000 cech postanowilem zmiejszyć ich liczbę i uszeregowac je wzgledem ważności i wybrać tylko te najwazniejsze do wektora jego preferencji. Chciałem aby sieć przyjmowała na wejsciu wektor reprezentujący użytkownika złożony z pewnej liczby jego ulubionych filmów które będą reprezentowane przez x najważniejszych cech, oraz wektor filmu do oceny stworzony w podobny sposób"
   ]
  },
  {
   "cell_type": "code",
   "execution_count": 4,
   "metadata": {},
   "outputs": [
    {
     "name": "stdout",
     "output_type": "stream",
     "text": [
      "[0.14905495 0.22326949 0.28168725 0.32124008 0.35382191 0.38187087\n",
      " 0.40660537 0.4287136  0.44887958 0.46572842 0.48076429 0.49415438\n",
      " 0.50713443 0.51925706 0.53084176 0.54110816 0.55019388 0.5590928\n",
      " 0.56708517 0.57490315 0.58210175 0.58900122 0.5957148  0.6020578\n",
      " 0.60809961 0.61370185 0.61891793 0.62385819 0.62871809 0.63337182\n",
      " 0.63795321 0.64222108 0.64622722 0.65003545 0.65363232 0.65719857\n",
      " 0.66064083 0.66398161 0.66722515 0.67033967 0.67334663 0.67630795\n",
      " 0.67920199 0.68202228 0.6847787  0.6875202  0.69015011 0.6926625\n",
      " 0.69512139 0.69747987 0.69978047 0.7020391  0.70425519 0.7064292\n",
      " 0.70855479 0.71064803 0.71266636 0.71464999 0.71655757 0.71843521\n",
      " 0.72028752 0.72208095 0.7238483  0.72559834 0.72731104 0.72900487\n",
      " 0.73065549 0.7322885  0.73386187 0.73540445 0.73692952 0.73842463\n",
      " 0.73989377 0.74134355 0.74276857 0.74417746 0.74556682 0.74694296\n",
      " 0.74829299 0.74962729 0.75092486 0.75220516 0.75348094 0.75471826\n",
      " 0.75594771 0.75716983 0.75838042 0.75956915 0.76074749 0.76191867\n",
      " 0.76307499 0.76420257 0.76532055 0.76642754 0.76752245 0.76860446\n",
      " 0.76967847 0.77073152 0.77176992 0.77280632 0.77383158 0.77484318\n",
      " 0.77583006 0.77680367 0.77776697 0.77872798 0.7796871  0.78063137\n",
      " 0.78156988 0.78250443 0.78342163 0.78433029 0.78523105 0.78612286\n",
      " 0.78700858 0.78789005 0.78875639 0.78961818 0.79046743 0.79130906\n",
      " 0.79214537 0.79297569 0.79379851 0.79461256 0.79542342 0.79622771\n",
      " 0.79702447 0.79781501 0.79859713 0.79937269 0.80014322 0.80090803\n",
      " 0.80166067 0.80240913 0.8031508  0.80389011 0.80462539 0.80535818\n",
      " 0.80608435 0.8068085  0.80752855 0.80824579 0.80895486 0.80965417\n",
      " 0.81035093 0.81104437 0.81173732 0.81242872 0.81310938 0.81378507\n",
      " 0.81445642 0.81512268 0.81578314 0.81644007 0.81709301 0.81774307\n",
      " 0.81839025 0.81903226 0.81967242 0.82030667 0.82093962 0.82156472\n",
      " 0.8221866  0.82280526 0.82341872 0.8240299  0.82463677 0.82523965\n",
      " 0.82583861 0.82643505 0.82702922 0.82762051 0.82820925 0.82879531\n",
      " 0.82937817 0.82995881 0.83053212 0.8311046  0.8316719  0.83223806\n",
      " 0.8327975  0.83335467 0.83390804 0.8344594  0.83500975 0.83555935\n",
      " 0.83610693 0.83665292 0.8371961  0.83773679 0.83827296 0.83880807\n",
      " 0.83934028 0.83986822 0.84039516 0.84091809 0.84143884 0.8419581\n",
      " 0.84247426 0.84298926 0.84350103 0.84401187 0.84452026 0.84502673\n",
      " 0.84553036 0.84603039 0.84652944 0.84702675 0.84751998 0.84801077\n",
      " 0.84850033 0.84898785 0.84947221 0.84995472 0.85043562 0.85091512\n",
      " 0.85139024 0.85186339 0.85233581 0.85280602 0.85327437 0.85374203\n",
      " 0.8542088  0.85467327 0.85513688 0.85559752 0.8560548  0.85650786\n",
      " 0.8569606  0.85741028 0.85785796 0.85830488 0.85875023 0.85919472\n",
      " 0.85963768 0.86007919 0.8605185  0.86095715 0.86139217 0.86182612\n",
      " 0.86225729 0.86268691 0.86311629 0.86354399 0.86396925 0.86439113\n",
      " 0.8648123  0.86523225 0.86565089 0.86606798 0.8664847  0.86689976\n",
      " 0.86731391 0.86772609 0.8681365  0.86854576 0.8689545  0.8693613\n",
      " 0.86976567 0.87016869 0.87056883 0.87096742 0.87136392 0.8717598\n",
      " 0.87215559 0.87254754 0.8729391  0.87332984 0.87371986 0.87410806\n",
      " 0.87449542 0.87488242 0.87526583 0.87564821 0.8760291  0.87640868\n",
      " 0.87678647 0.87716101 0.87753474 0.87790773 0.87827967 0.87865078\n",
      " 0.87902119 0.87938926 0.87975597 0.88012049 0.88048444 0.88084716\n",
      " 0.88120836 0.88156859 0.88192784 0.88228558 0.88264202 0.88299748\n",
      " 0.88335206 0.88370617 0.88405971 0.88441209 0.88476275 0.88511126\n",
      " 0.88545909 0.88580592 0.88615167 0.88649646 0.88683951 0.88718205\n",
      " 0.88752419 0.88786621 0.88820659 0.88854515 0.88888299 0.88922032\n",
      " 0.88955701 0.88989175 0.89022506 0.89055791 0.89088982 0.89122015\n",
      " 0.89154921 0.8918776  0.89220489 0.8925308  0.89285513 0.8931789\n",
      " 0.89350124 0.8938232  0.89414426 0.89446486 0.89478505 0.89510428\n",
      " 0.895422   0.89573958 0.89605619 0.89637191 0.89668634 0.89700003\n",
      " 0.89731271 0.89762492 0.89793599 0.89824677 0.89855562 0.89886372\n",
      " 0.89916982 0.89947454 0.89977867 0.90008208 0.90038428 0.90068548\n",
      " 0.90098592 0.9012859  0.90158518 0.90188426 0.9021825  0.90247897\n",
      " 0.90277526 0.90307007 0.90336431 0.90365676 0.90394851 0.90423941\n",
      " 0.90452978 0.90481896 0.90510728 0.9053953  0.90568191 0.90596798\n",
      " 0.90625256 0.90653693 0.90682026 0.90710317 0.90738551 0.90766657\n",
      " 0.90794701 0.90822703 0.90850622 0.90878456 0.90906255 0.90933938\n",
      " 0.90961519 0.90989062 0.91016558 0.9104401  0.91071347 0.91098548\n",
      " 0.9112574  0.91152818 0.91179872 0.91206815 0.9123372  0.91260541\n",
      " 0.91287273 0.91313937 0.91340554 0.91367068 0.91393529 0.91419918\n",
      " 0.91446226 0.91472471 0.91498608 0.91524714 0.91550761 0.91576782\n",
      " 0.91602687 0.91628507 0.91654272 0.9167997  0.91705607 0.91731186\n",
      " 0.91756605 0.91781995 0.91807369 0.9183272  0.91857966 0.91883055\n",
      " 0.91908097 0.9193312  0.91957978 0.91982824 0.92007636 0.92032382\n",
      " 0.92057054 0.92081657 0.92106192 0.92130673 0.92155101 0.92179467\n",
      " 0.92203784 0.92228033 0.92252232 0.92276351 0.92300394 0.92324411\n",
      " 0.92348392 0.92372181 0.92395934 0.92419606 0.92443164 0.92466695\n",
      " 0.92490162 0.9251355  0.92536881 0.92560144 0.92583397 0.926065\n",
      " 0.92629554 0.92652586 0.92675595 0.92698513 0.92721377 0.92744186\n",
      " 0.92766966 0.92789684 0.92812343 0.92834937 0.92857494 0.92879959\n",
      " 0.92902372 0.92924715 0.92947027 0.92969235 0.92991408 0.93013541\n",
      " 0.93035651 0.93057683 0.93079666 0.93101639 0.93123529 0.93145371\n",
      " 0.93167116 0.93188833 0.93210524 0.93232069 0.93253597 0.93275027\n",
      " 0.93296424 0.93317736 0.93338945 0.93360095 0.93381166 0.93402198\n",
      " 0.93423198 0.93444174 0.93465107 0.93485977 0.93506755 0.93527497\n",
      " 0.9354822  0.9356886  0.93589456 0.93609977 0.93630482 0.93650976\n",
      " 0.93671413 0.93691798 0.93712072 0.93732292 0.93752496 0.93772673\n",
      " 0.93792769 0.93812853 0.93832827 0.9385271  0.93872534 0.93892301\n",
      " 0.93911933 0.9393153  0.93951103 0.93970659 0.93990132 0.94009559\n",
      " 0.94028941 0.94048213 0.94067421 0.94086607 0.94105766 0.94124894\n",
      " 0.94143985 0.94162995 0.94181905 0.9420081  0.94219635 0.94238416\n",
      " 0.94257135 0.9427583  0.9429446  0.94313027 0.94331548 0.9435003\n",
      " 0.94368453 0.94386854 0.94405142 0.94423413 0.9444164  0.94459778\n",
      " 0.94477876 0.94495931 0.94513974 0.94531965 0.94549902 0.94567791\n",
      " 0.94585588 0.94603314 0.9462096  0.94638553 0.94656071 0.94673556\n",
      " 0.94691026 0.9470843  0.9472579  0.94743107 0.94760398 0.94777655\n",
      " 0.94794875 0.94811944 0.94829003 0.94845986 0.94862936 0.94879801\n",
      " 0.94896638 0.94913412 0.9493016  0.94946802 0.94963367 0.94979902\n",
      " 0.9499642  0.95012879 0.95029309 0.95045703 0.95062034 0.95078313\n",
      " 0.95094544 0.95110705 0.95126792 0.95142836 0.95158808 0.95174724\n",
      " 0.95190521 0.95206287 0.95222039 0.95237726 0.95253352 0.95268905\n",
      " 0.95284386 0.95299801 0.95315188 0.95330518 0.95345815 0.95361067\n",
      " 0.95376279 0.95391385 0.95406435 0.95421425 0.95436327 0.95451213\n",
      " 0.95465995 0.95480716 0.95495366 0.95509916 0.95524406 0.95538851]\n"
     ]
    },
    {
     "data": {
      "image/png": "[encoded data removed]",
      "text/plain": [
       "<Figure size 640x480 with 1 Axes>"
      ]
     },
     "metadata": {},
     "output_type": "display_data"
    }
   ],
   "source": [
    "import numpy as np\n",
    "from sklearn.decomposition import PCA\n",
    "n_components = 600\n",
    "\n",
    "pca = PCA(n_components=n_components)\n",
    "pca.fit(data)\n",
    "\n",
    "explained_variance = pca.explained_variance_ratio_\n",
    "cumulative_explained_variance = np.cumsum(explained_variance)\n",
    "print(cumulative_explained_variance)\n",
    "import matplotlib.pyplot as plt\n",
    "\n",
    "plt.plot(range(1, n_components + 1), cumulative_explained_variance, marker='o')\n",
    "plt.xlabel('Number of Components')\n",
    "plt.ylabel('Cumulative Explained Variance')\n",
    "plt.title('Cumulative Explained Variance vs. Number of Components')\n",
    "plt.grid()\n",
    "plt.show()\n"
   ]
  },
  {
   "cell_type": "markdown",
   "metadata": {},
   "source": [
    "Jak widać wyzej przy 600 cechach, zachowujemy prawie 96% informacji,\n",
    "jednak wystarczy jedynie 25 cech aby zachować około 60% informacji.\n",
    "Postanowiłem że wektory wejściowe będą złożone z 50 cech filmu ocenianego i 25 filmów należących do ulubionych uzytkownika."
   ]
  },
  {
   "cell_type": "code",
   "execution_count": 3,
   "metadata": {},
   "outputs": [
    {
     "name": "stdout",
     "output_type": "stream",
     "text": [
      "[0.14905495 0.22326949 0.28168725 0.32124008 0.35382191 0.38187087\n",
      " 0.40660537 0.4287136  0.44887958 0.46572842 0.48076429 0.49415438\n",
      " 0.50713443 0.51925706 0.53084176 0.54110816 0.55019388 0.5590928\n",
      " 0.56708517 0.57490315 0.58210175 0.58900122 0.5957148  0.6020578\n",
      " 0.60809961 0.61370185 0.61891792 0.62385819 0.62871809 0.63337182\n",
      " 0.63795321 0.64222107 0.6462272  0.6500354  0.65363207 0.65719814\n",
      " 0.66064009 0.66398077 0.66722388 0.67033767 0.67334408 0.67630513\n",
      " 0.67919728 0.68201516 0.68476915 0.68750818 0.69013487 0.69264123\n",
      " 0.69508628 0.69742814]\n"
     ]
    }
   ],
   "source": [
    "import numpy as np\n",
    "from sklearn.decomposition import PCA\n",
    "n_components = 50\n",
    "\n",
    "\n",
    "pca = PCA(n_components=n_components)\n",
    "pca.fit(data)\n",
    "\n",
    "explained_variance = pca.explained_variance_ratio_\n",
    "cumulative_explained_variance = np.cumsum(explained_variance)\n",
    "print(cumulative_explained_variance)\n"
   ]
  },
  {
   "cell_type": "code",
   "execution_count": 6,
   "metadata": {},
   "outputs": [
    {
     "name": "stdout",
     "output_type": "stream",
     "text": [
      "Komponent główny 1: Wyjaśniona wariancja = 0.1491, Kumulatywna wyjaśniona wariancja = 0.1491\n",
      "Komponent główny 2: Wyjaśniona wariancja = 0.0742, Kumulatywna wyjaśniona wariancja = 0.2233\n",
      "Komponent główny 3: Wyjaśniona wariancja = 0.0584, Kumulatywna wyjaśniona wariancja = 0.2817\n",
      "Komponent główny 4: Wyjaśniona wariancja = 0.0396, Kumulatywna wyjaśniona wariancja = 0.3212\n",
      "Komponent główny 5: Wyjaśniona wariancja = 0.0326, Kumulatywna wyjaśniona wariancja = 0.3538\n",
      "Komponent główny 6: Wyjaśniona wariancja = 0.0280, Kumulatywna wyjaśniona wariancja = 0.3819\n",
      "Komponent główny 7: Wyjaśniona wariancja = 0.0247, Kumulatywna wyjaśniona wariancja = 0.4066\n",
      "Komponent główny 8: Wyjaśniona wariancja = 0.0221, Kumulatywna wyjaśniona wariancja = 0.4287\n",
      "Komponent główny 9: Wyjaśniona wariancja = 0.0202, Kumulatywna wyjaśniona wariancja = 0.4489\n",
      "Komponent główny 10: Wyjaśniona wariancja = 0.0168, Kumulatywna wyjaśniona wariancja = 0.4657\n",
      "Komponent główny 11: Wyjaśniona wariancja = 0.0150, Kumulatywna wyjaśniona wariancja = 0.4808\n",
      "Komponent główny 12: Wyjaśniona wariancja = 0.0134, Kumulatywna wyjaśniona wariancja = 0.4942\n",
      "Komponent główny 13: Wyjaśniona wariancja = 0.0130, Kumulatywna wyjaśniona wariancja = 0.5071\n",
      "Komponent główny 14: Wyjaśniona wariancja = 0.0121, Kumulatywna wyjaśniona wariancja = 0.5193\n",
      "Komponent główny 15: Wyjaśniona wariancja = 0.0116, Kumulatywna wyjaśniona wariancja = 0.5308\n",
      "Komponent główny 16: Wyjaśniona wariancja = 0.0103, Kumulatywna wyjaśniona wariancja = 0.5411\n",
      "Komponent główny 17: Wyjaśniona wariancja = 0.0091, Kumulatywna wyjaśniona wariancja = 0.5502\n",
      "Komponent główny 18: Wyjaśniona wariancja = 0.0089, Kumulatywna wyjaśniona wariancja = 0.5591\n",
      "Komponent główny 19: Wyjaśniona wariancja = 0.0080, Kumulatywna wyjaśniona wariancja = 0.5671\n",
      "Komponent główny 20: Wyjaśniona wariancja = 0.0078, Kumulatywna wyjaśniona wariancja = 0.5749\n",
      "Komponent główny 21: Wyjaśniona wariancja = 0.0072, Kumulatywna wyjaśniona wariancja = 0.5821\n",
      "Komponent główny 22: Wyjaśniona wariancja = 0.0069, Kumulatywna wyjaśniona wariancja = 0.5890\n",
      "Komponent główny 23: Wyjaśniona wariancja = 0.0067, Kumulatywna wyjaśniona wariancja = 0.5957\n",
      "Komponent główny 24: Wyjaśniona wariancja = 0.0063, Kumulatywna wyjaśniona wariancja = 0.6021\n",
      "Komponent główny 25: Wyjaśniona wariancja = 0.0060, Kumulatywna wyjaśniona wariancja = 0.6081\n",
      "Komponent główny 26: Wyjaśniona wariancja = 0.0056, Kumulatywna wyjaśniona wariancja = 0.6137\n",
      "Komponent główny 27: Wyjaśniona wariancja = 0.0052, Kumulatywna wyjaśniona wariancja = 0.6189\n",
      "Komponent główny 28: Wyjaśniona wariancja = 0.0049, Kumulatywna wyjaśniona wariancja = 0.6239\n",
      "Komponent główny 29: Wyjaśniona wariancja = 0.0049, Kumulatywna wyjaśniona wariancja = 0.6287\n",
      "Komponent główny 30: Wyjaśniona wariancja = 0.0047, Kumulatywna wyjaśniona wariancja = 0.6334\n",
      "Komponent główny 31: Wyjaśniona wariancja = 0.0046, Kumulatywna wyjaśniona wariancja = 0.6380\n",
      "Komponent główny 32: Wyjaśniona wariancja = 0.0043, Kumulatywna wyjaśniona wariancja = 0.6422\n",
      "Komponent główny 33: Wyjaśniona wariancja = 0.0040, Kumulatywna wyjaśniona wariancja = 0.6462\n",
      "Komponent główny 34: Wyjaśniona wariancja = 0.0038, Kumulatywna wyjaśniona wariancja = 0.6500\n",
      "Komponent główny 35: Wyjaśniona wariancja = 0.0036, Kumulatywna wyjaśniona wariancja = 0.6536\n",
      "Komponent główny 36: Wyjaśniona wariancja = 0.0036, Kumulatywna wyjaśniona wariancja = 0.6572\n",
      "Komponent główny 37: Wyjaśniona wariancja = 0.0034, Kumulatywna wyjaśniona wariancja = 0.6606\n",
      "Komponent główny 38: Wyjaśniona wariancja = 0.0033, Kumulatywna wyjaśniona wariancja = 0.6640\n",
      "Komponent główny 39: Wyjaśniona wariancja = 0.0032, Kumulatywna wyjaśniona wariancja = 0.6672\n",
      "Komponent główny 40: Wyjaśniona wariancja = 0.0031, Kumulatywna wyjaśniona wariancja = 0.6703\n",
      "Komponent główny 41: Wyjaśniona wariancja = 0.0030, Kumulatywna wyjaśniona wariancja = 0.6733\n",
      "Komponent główny 42: Wyjaśniona wariancja = 0.0030, Kumulatywna wyjaśniona wariancja = 0.6763\n",
      "Komponent główny 43: Wyjaśniona wariancja = 0.0029, Kumulatywna wyjaśniona wariancja = 0.6792\n",
      "Komponent główny 44: Wyjaśniona wariancja = 0.0028, Kumulatywna wyjaśniona wariancja = 0.6820\n",
      "Komponent główny 45: Wyjaśniona wariancja = 0.0027, Kumulatywna wyjaśniona wariancja = 0.6848\n",
      "Komponent główny 46: Wyjaśniona wariancja = 0.0027, Kumulatywna wyjaśniona wariancja = 0.6875\n",
      "Komponent główny 47: Wyjaśniona wariancja = 0.0026, Kumulatywna wyjaśniona wariancja = 0.6901\n",
      "Komponent główny 48: Wyjaśniona wariancja = 0.0025, Kumulatywna wyjaśniona wariancja = 0.6926\n",
      "Komponent główny 49: Wyjaśniona wariancja = 0.0024, Kumulatywna wyjaśniona wariancja = 0.6950\n",
      "Komponent główny 50: Wyjaśniona wariancja = 0.0023, Kumulatywna wyjaśniona wariancja = 0.6974\n"
     ]
    }
   ],
   "source": [
    "for i, explained_variancex in enumerate(explained_variance):\n",
    "    print(f\"Komponent główny {i+1}: Wyjaśniona wariancja = {explained_variancex:.4f}, Kumulatywna wyjaśniona wariancja = {cumulative_explained_variance[i]:.4f}\")"
   ]
  },
  {
   "cell_type": "markdown",
   "metadata": {},
   "source": [
    "DataFrame reduced_df zawiera cechy z analizy PCA przypisane do id filmu."
   ]
  },
  {
   "cell_type": "code",
   "execution_count": 4,
   "metadata": {},
   "outputs": [
    {
     "name": "stdout",
     "output_type": "stream",
     "text": [
      "              PC1       PC2       PC3       PC4       PC5       PC6       PC7  \\\n",
      "movieId                                                                         \n",
      "1        0.796514  2.212839 -2.489444  1.624747  0.984763  1.168046 -0.203300   \n",
      "2       -1.541922  1.597864 -1.113613  1.302526 -0.196336  0.191809 -0.026161   \n",
      "3       -1.506092 -0.010220 -0.605981 -0.316252  0.330972  0.334078  0.048253   \n",
      "4       -1.293604 -0.775662 -0.926582 -0.384600  0.103713 -0.345682  0.683775   \n",
      "5       -1.694557 -0.185986 -1.204239 -0.149549  0.470713  0.053199  0.385026   \n",
      "...           ...       ...       ...       ...       ...       ...       ...   \n",
      "205072  -0.034354  1.189431 -0.941385  0.439289  1.349124  0.065643 -0.668149   \n",
      "205076  -0.294929 -1.243930 -0.833182 -0.320838  0.265652  0.273416 -0.106014   \n",
      "205383   0.569254  0.952059  0.161266 -0.542846  0.214419  0.119859 -0.036601   \n",
      "205425   1.551432  1.517558  0.109042 -0.184095  1.932083  0.367802 -0.280007   \n",
      "206499   0.212250  1.392884  0.010167 -0.178252  1.152876 -0.113637  0.539744   \n",
      "\n",
      "              PC8       PC9      PC10  ...      PC41      PC42      PC43  \\\n",
      "movieId                                ...                                 \n",
      "1        1.659382 -0.675962 -1.251265  ...  0.071709  0.191210 -0.066318   \n",
      "2        1.208987 -0.369388 -0.483199  ... -0.086872 -0.015094 -0.406426   \n",
      "3        0.010072 -0.042318  0.040345  ...  0.277868 -0.045813  0.288343   \n",
      "4        0.218370 -0.159426  0.639183  ...  0.259325 -0.035186 -0.069356   \n",
      "5        0.302557 -0.133082 -0.083749  ...  0.371387  0.184404  0.230892   \n",
      "...           ...       ...       ...  ...       ...       ...       ...   \n",
      "205072   0.739266  0.359374 -0.235279  ... -0.171143 -0.213531 -0.164310   \n",
      "205076   0.179974  0.298846 -0.161174  ... -0.175039  0.099352  0.142388   \n",
      "205383  -0.183716  0.082651 -0.177052  ... -0.233837 -0.059371  0.188919   \n",
      "205425  -0.180244  0.470646 -0.494713  ...  0.007946  0.156643 -0.119808   \n",
      "206499  -0.755982  0.464159  0.236271  ... -0.049079 -0.098327 -0.138564   \n",
      "\n",
      "             PC44      PC45      PC46      PC47      PC48      PC49      PC50  \n",
      "movieId                                                                        \n",
      "1        0.102437  0.340714 -0.064131 -0.020873  0.047330  0.022304 -0.273378  \n",
      "2       -0.096493 -0.012174  0.011248 -0.004506  0.038926 -0.322719  0.201646  \n",
      "3        0.087436 -0.182915  0.114690 -0.024712 -0.203068 -0.305415  0.007385  \n",
      "4       -0.259959 -0.007401  0.037719  0.151768 -0.297916  0.240403 -0.101121  \n",
      "5       -0.057766 -0.172415  0.114530  0.282700 -0.069101 -0.134904 -0.051546  \n",
      "...           ...       ...       ...       ...       ...       ...       ...  \n",
      "205072  -0.370594  0.081888  0.523411 -0.061337 -0.244741  0.552802 -0.119052  \n",
      "205076  -0.123437  0.102001 -0.219424 -0.007742 -0.024279  0.349194  0.141336  \n",
      "205383  -0.014727 -0.126918  0.211180 -0.025426 -0.107818 -0.077786  0.192954  \n",
      "205425   0.181436  0.191431  0.421532 -0.158807 -0.170154 -0.073657 -0.042320  \n",
      "206499   0.119672  0.061160  0.201676 -0.086658  0.137786  0.081935  0.053719  \n",
      "\n",
      "[13816 rows x 50 columns]\n"
     ]
    }
   ],
   "source": [
    "reduced_features = pca.transform(data)\n",
    "reduced_df = pd.DataFrame(reduced_features, index=data.index, columns=[f\"PC{i}\" for i in range(1, n_components + 1)])\n",
    "print(reduced_df)"
   ]
  },
  {
   "cell_type": "markdown",
   "metadata": {},
   "source": [
    "**Scalenie danych dotyczacacy ocen z tymi dotyczacymi treści.**\n",
    "\n",
    "Postanowiłem usunąć dane dotyczące daty, ponieważ ta cecha wydaje się znancząca głównie w wypadku aktualnych danych, aby zauwazyć współczesne trendy, a dane które posiadam są juz dosyć stare. Jeśli chodzi o wykorzystanie sekwencji ogladania filmów, uznałem że nie jest to szczególnie ważny czynnik przy takim problemie."
   ]
  },
  {
   "cell_type": "code",
   "execution_count": 5,
   "metadata": {},
   "outputs": [
    {
     "data": {
      "text/html": [
       "<div>\n",
       "<style scoped>\n",
       "    .dataframe tbody tr th:only-of-type {\n",
       "        vertical-align: middle;\n",
       "    }\n",
       "\n",
       "    .dataframe tbody tr th {\n",
       "        vertical-align: top;\n",
       "    }\n",
       "\n",
       "    .dataframe thead th {\n",
       "        text-align: right;\n",
       "    }\n",
       "</style>\n",
       "<table border=\"1\" class=\"dataframe\">\n",
       "  <thead>\n",
       "    <tr style=\"text-align: right;\">\n",
       "      <th></th>\n",
       "      <th>userId</th>\n",
       "      <th>movieId</th>\n",
       "      <th>rating</th>\n",
       "      <th>PC1</th>\n",
       "      <th>PC2</th>\n",
       "      <th>PC3</th>\n",
       "      <th>PC4</th>\n",
       "      <th>PC5</th>\n",
       "      <th>PC6</th>\n",
       "      <th>PC7</th>\n",
       "      <th>...</th>\n",
       "      <th>PC41</th>\n",
       "      <th>PC42</th>\n",
       "      <th>PC43</th>\n",
       "      <th>PC44</th>\n",
       "      <th>PC45</th>\n",
       "      <th>PC46</th>\n",
       "      <th>PC47</th>\n",
       "      <th>PC48</th>\n",
       "      <th>PC49</th>\n",
       "      <th>PC50</th>\n",
       "    </tr>\n",
       "  </thead>\n",
       "  <tbody>\n",
       "    <tr>\n",
       "      <th>0</th>\n",
       "      <td>1</td>\n",
       "      <td>296</td>\n",
       "      <td>5.0</td>\n",
       "      <td>4.790098</td>\n",
       "      <td>2.207694</td>\n",
       "      <td>2.002849</td>\n",
       "      <td>-0.806388</td>\n",
       "      <td>2.117197</td>\n",
       "      <td>0.731730</td>\n",
       "      <td>-0.099305</td>\n",
       "      <td>...</td>\n",
       "      <td>0.330946</td>\n",
       "      <td>0.351850</td>\n",
       "      <td>-0.366988</td>\n",
       "      <td>-0.279910</td>\n",
       "      <td>0.368720</td>\n",
       "      <td>-0.277067</td>\n",
       "      <td>0.184883</td>\n",
       "      <td>-0.298386</td>\n",
       "      <td>-0.112829</td>\n",
       "      <td>0.039205</td>\n",
       "    </tr>\n",
       "    <tr>\n",
       "      <th>1</th>\n",
       "      <td>1</td>\n",
       "      <td>306</td>\n",
       "      <td>3.5</td>\n",
       "      <td>2.693426</td>\n",
       "      <td>-1.425561</td>\n",
       "      <td>-0.187578</td>\n",
       "      <td>1.324501</td>\n",
       "      <td>-0.620035</td>\n",
       "      <td>0.422823</td>\n",
       "      <td>0.742552</td>\n",
       "      <td>...</td>\n",
       "      <td>-0.358853</td>\n",
       "      <td>-0.336570</td>\n",
       "      <td>-0.224734</td>\n",
       "      <td>0.151126</td>\n",
       "      <td>0.014946</td>\n",
       "      <td>-0.237259</td>\n",
       "      <td>-0.033414</td>\n",
       "      <td>-0.044286</td>\n",
       "      <td>-0.072966</td>\n",
       "      <td>-0.248112</td>\n",
       "    </tr>\n",
       "    <tr>\n",
       "      <th>2</th>\n",
       "      <td>1</td>\n",
       "      <td>307</td>\n",
       "      <td>5.0</td>\n",
       "      <td>2.663506</td>\n",
       "      <td>-1.833673</td>\n",
       "      <td>0.306733</td>\n",
       "      <td>1.546391</td>\n",
       "      <td>-0.493952</td>\n",
       "      <td>0.021804</td>\n",
       "      <td>0.473427</td>\n",
       "      <td>...</td>\n",
       "      <td>-0.301222</td>\n",
       "      <td>-0.208397</td>\n",
       "      <td>-0.364836</td>\n",
       "      <td>-0.014559</td>\n",
       "      <td>-0.211932</td>\n",
       "      <td>-0.176840</td>\n",
       "      <td>0.032193</td>\n",
       "      <td>0.300339</td>\n",
       "      <td>-0.163430</td>\n",
       "      <td>-0.359288</td>\n",
       "    </tr>\n",
       "    <tr>\n",
       "      <th>3</th>\n",
       "      <td>1</td>\n",
       "      <td>665</td>\n",
       "      <td>5.0</td>\n",
       "      <td>2.263750</td>\n",
       "      <td>-0.978720</td>\n",
       "      <td>-0.029237</td>\n",
       "      <td>0.822817</td>\n",
       "      <td>-0.605279</td>\n",
       "      <td>0.310908</td>\n",
       "      <td>-1.275393</td>\n",
       "      <td>...</td>\n",
       "      <td>-0.227383</td>\n",
       "      <td>0.122355</td>\n",
       "      <td>-0.329824</td>\n",
       "      <td>0.029782</td>\n",
       "      <td>0.015864</td>\n",
       "      <td>-0.026636</td>\n",
       "      <td>0.215110</td>\n",
       "      <td>-0.316799</td>\n",
       "      <td>-0.106783</td>\n",
       "      <td>-0.178361</td>\n",
       "    </tr>\n",
       "    <tr>\n",
       "      <th>4</th>\n",
       "      <td>1</td>\n",
       "      <td>899</td>\n",
       "      <td>3.5</td>\n",
       "      <td>0.933350</td>\n",
       "      <td>-0.077969</td>\n",
       "      <td>-1.643742</td>\n",
       "      <td>0.459915</td>\n",
       "      <td>0.592612</td>\n",
       "      <td>1.574695</td>\n",
       "      <td>-0.545392</td>\n",
       "      <td>...</td>\n",
       "      <td>-0.015386</td>\n",
       "      <td>-0.125579</td>\n",
       "      <td>-0.190540</td>\n",
       "      <td>0.078930</td>\n",
       "      <td>0.321402</td>\n",
       "      <td>-0.014826</td>\n",
       "      <td>-0.226755</td>\n",
       "      <td>0.223695</td>\n",
       "      <td>0.159705</td>\n",
       "      <td>0.301309</td>\n",
       "    </tr>\n",
       "    <tr>\n",
       "      <th>...</th>\n",
       "      <td>...</td>\n",
       "      <td>...</td>\n",
       "      <td>...</td>\n",
       "      <td>...</td>\n",
       "      <td>...</td>\n",
       "      <td>...</td>\n",
       "      <td>...</td>\n",
       "      <td>...</td>\n",
       "      <td>...</td>\n",
       "      <td>...</td>\n",
       "      <td>...</td>\n",
       "      <td>...</td>\n",
       "      <td>...</td>\n",
       "      <td>...</td>\n",
       "      <td>...</td>\n",
       "      <td>...</td>\n",
       "      <td>...</td>\n",
       "      <td>...</td>\n",
       "      <td>...</td>\n",
       "      <td>...</td>\n",
       "      <td>...</td>\n",
       "    </tr>\n",
       "    <tr>\n",
       "      <th>25000090</th>\n",
       "      <td>162541</td>\n",
       "      <td>50872</td>\n",
       "      <td>4.5</td>\n",
       "      <td>0.559187</td>\n",
       "      <td>1.273428</td>\n",
       "      <td>-2.321054</td>\n",
       "      <td>1.638386</td>\n",
       "      <td>0.761749</td>\n",
       "      <td>1.118073</td>\n",
       "      <td>0.543187</td>\n",
       "      <td>...</td>\n",
       "      <td>0.081112</td>\n",
       "      <td>0.054456</td>\n",
       "      <td>0.129290</td>\n",
       "      <td>0.189069</td>\n",
       "      <td>0.220461</td>\n",
       "      <td>-0.001408</td>\n",
       "      <td>-0.025611</td>\n",
       "      <td>0.412167</td>\n",
       "      <td>-0.129255</td>\n",
       "      <td>-0.645899</td>\n",
       "    </tr>\n",
       "    <tr>\n",
       "      <th>25000091</th>\n",
       "      <td>162541</td>\n",
       "      <td>55768</td>\n",
       "      <td>2.5</td>\n",
       "      <td>-1.746066</td>\n",
       "      <td>0.031802</td>\n",
       "      <td>-0.625601</td>\n",
       "      <td>0.815487</td>\n",
       "      <td>0.446195</td>\n",
       "      <td>0.708977</td>\n",
       "      <td>-0.206828</td>\n",
       "      <td>...</td>\n",
       "      <td>-0.059279</td>\n",
       "      <td>-0.032596</td>\n",
       "      <td>-0.044094</td>\n",
       "      <td>0.230373</td>\n",
       "      <td>0.027738</td>\n",
       "      <td>-0.082356</td>\n",
       "      <td>0.017948</td>\n",
       "      <td>0.007116</td>\n",
       "      <td>-0.047617</td>\n",
       "      <td>0.050319</td>\n",
       "    </tr>\n",
       "    <tr>\n",
       "      <th>25000092</th>\n",
       "      <td>162541</td>\n",
       "      <td>56176</td>\n",
       "      <td>2.0</td>\n",
       "      <td>-2.387714</td>\n",
       "      <td>0.071047</td>\n",
       "      <td>-0.662184</td>\n",
       "      <td>0.240420</td>\n",
       "      <td>0.387865</td>\n",
       "      <td>0.295560</td>\n",
       "      <td>-0.066649</td>\n",
       "      <td>...</td>\n",
       "      <td>-0.065120</td>\n",
       "      <td>0.043738</td>\n",
       "      <td>-0.300406</td>\n",
       "      <td>-0.006526</td>\n",
       "      <td>0.223561</td>\n",
       "      <td>-0.143967</td>\n",
       "      <td>0.084564</td>\n",
       "      <td>-0.162888</td>\n",
       "      <td>-0.026145</td>\n",
       "      <td>-0.102307</td>\n",
       "    </tr>\n",
       "    <tr>\n",
       "      <th>25000093</th>\n",
       "      <td>162541</td>\n",
       "      <td>58559</td>\n",
       "      <td>4.0</td>\n",
       "      <td>3.413871</td>\n",
       "      <td>4.498440</td>\n",
       "      <td>0.034262</td>\n",
       "      <td>0.502390</td>\n",
       "      <td>0.015928</td>\n",
       "      <td>-0.438470</td>\n",
       "      <td>-0.537903</td>\n",
       "      <td>...</td>\n",
       "      <td>-0.281233</td>\n",
       "      <td>-0.303644</td>\n",
       "      <td>0.356038</td>\n",
       "      <td>-0.476159</td>\n",
       "      <td>0.052489</td>\n",
       "      <td>-0.081330</td>\n",
       "      <td>0.479504</td>\n",
       "      <td>-0.147727</td>\n",
       "      <td>0.356401</td>\n",
       "      <td>-0.199570</td>\n",
       "    </tr>\n",
       "    <tr>\n",
       "      <th>25000094</th>\n",
       "      <td>162541</td>\n",
       "      <td>63876</td>\n",
       "      <td>5.0</td>\n",
       "      <td>2.796650</td>\n",
       "      <td>-0.276839</td>\n",
       "      <td>-1.832958</td>\n",
       "      <td>-1.115833</td>\n",
       "      <td>-0.003553</td>\n",
       "      <td>-1.736217</td>\n",
       "      <td>-0.768257</td>\n",
       "      <td>...</td>\n",
       "      <td>0.281780</td>\n",
       "      <td>-0.276363</td>\n",
       "      <td>-0.454843</td>\n",
       "      <td>-0.470906</td>\n",
       "      <td>0.082162</td>\n",
       "      <td>-0.753296</td>\n",
       "      <td>0.135182</td>\n",
       "      <td>0.156247</td>\n",
       "      <td>-0.182018</td>\n",
       "      <td>-0.114942</td>\n",
       "    </tr>\n",
       "  </tbody>\n",
       "</table>\n",
       "<p>25000095 rows × 53 columns</p>\n",
       "</div>"
      ],
      "text/plain": [
       "          userId  movieId  rating       PC1       PC2       PC3       PC4  \\\n",
       "0              1      296     5.0  4.790098  2.207694  2.002849 -0.806388   \n",
       "1              1      306     3.5  2.693426 -1.425561 -0.187578  1.324501   \n",
       "2              1      307     5.0  2.663506 -1.833673  0.306733  1.546391   \n",
       "3              1      665     5.0  2.263750 -0.978720 -0.029237  0.822817   \n",
       "4              1      899     3.5  0.933350 -0.077969 -1.643742  0.459915   \n",
       "...          ...      ...     ...       ...       ...       ...       ...   \n",
       "25000090  162541    50872     4.5  0.559187  1.273428 -2.321054  1.638386   \n",
       "25000091  162541    55768     2.5 -1.746066  0.031802 -0.625601  0.815487   \n",
       "25000092  162541    56176     2.0 -2.387714  0.071047 -0.662184  0.240420   \n",
       "25000093  162541    58559     4.0  3.413871  4.498440  0.034262  0.502390   \n",
       "25000094  162541    63876     5.0  2.796650 -0.276839 -1.832958 -1.115833   \n",
       "\n",
       "               PC5       PC6       PC7  ...      PC41      PC42      PC43  \\\n",
       "0         2.117197  0.731730 -0.099305  ...  0.330946  0.351850 -0.366988   \n",
       "1        -0.620035  0.422823  0.742552  ... -0.358853 -0.336570 -0.224734   \n",
       "2        -0.493952  0.021804  0.473427  ... -0.301222 -0.208397 -0.364836   \n",
       "3        -0.605279  0.310908 -1.275393  ... -0.227383  0.122355 -0.329824   \n",
       "4         0.592612  1.574695 -0.545392  ... -0.015386 -0.125579 -0.190540   \n",
       "...            ...       ...       ...  ...       ...       ...       ...   \n",
       "25000090  0.761749  1.118073  0.543187  ...  0.081112  0.054456  0.129290   \n",
       "25000091  0.446195  0.708977 -0.206828  ... -0.059279 -0.032596 -0.044094   \n",
       "25000092  0.387865  0.295560 -0.066649  ... -0.065120  0.043738 -0.300406   \n",
       "25000093  0.015928 -0.438470 -0.537903  ... -0.281233 -0.303644  0.356038   \n",
       "25000094 -0.003553 -1.736217 -0.768257  ...  0.281780 -0.276363 -0.454843   \n",
       "\n",
       "              PC44      PC45      PC46      PC47      PC48      PC49      PC50  \n",
       "0        -0.279910  0.368720 -0.277067  0.184883 -0.298386 -0.112829  0.039205  \n",
       "1         0.151126  0.014946 -0.237259 -0.033414 -0.044286 -0.072966 -0.248112  \n",
       "2        -0.014559 -0.211932 -0.176840  0.032193  0.300339 -0.163430 -0.359288  \n",
       "3         0.029782  0.015864 -0.026636  0.215110 -0.316799 -0.106783 -0.178361  \n",
       "4         0.078930  0.321402 -0.014826 -0.226755  0.223695  0.159705  0.301309  \n",
       "...            ...       ...       ...       ...       ...       ...       ...  \n",
       "25000090  0.189069  0.220461 -0.001408 -0.025611  0.412167 -0.129255 -0.645899  \n",
       "25000091  0.230373  0.027738 -0.082356  0.017948  0.007116 -0.047617  0.050319  \n",
       "25000092 -0.006526  0.223561 -0.143967  0.084564 -0.162888 -0.026145 -0.102307  \n",
       "25000093 -0.476159  0.052489 -0.081330  0.479504 -0.147727  0.356401 -0.199570  \n",
       "25000094 -0.470906  0.082162 -0.753296  0.135182  0.156247 -0.182018 -0.114942  \n",
       "\n",
       "[25000095 rows x 53 columns]"
      ]
     },
     "execution_count": 5,
     "metadata": {},
     "output_type": "execute_result"
    }
   ],
   "source": [
    "rat = rat.drop(\"timestamp\", axis=1)\n",
    "merged_table = rat.merge(reduced_df, on='movieId', how='left')\n",
    "merged_table"
   ]
  },
  {
   "cell_type": "markdown",
   "metadata": {},
   "source": [
    "Zauważyłem ze część użytkowników nie ocenia \"dobrze\" nawet 10 filmów, dlatego postanowiłem ze mniej filmów będzie reprezentować ich preferencje."
   ]
  },
  {
   "cell_type": "code",
   "execution_count": 6,
   "metadata": {},
   "outputs": [
    {
     "name": "stdout",
     "output_type": "stream",
     "text": [
      "Użytkownicy z mniej niż 8 dobrze ocenionymi filmami: Index([    74,     77,    105,    182,    356,    380,    438,    476,    621,\n",
      "          728,\n",
      "       ...\n",
      "       161974, 162127, 162168, 162234, 162277, 162279, 162356, 162370, 162460,\n",
      "       162470],\n",
      "      dtype='int64', name='userId', length=2832)\n"
     ]
    }
   ],
   "source": [
    "\n",
    "high_ratings = merged_table[merged_table['rating'] >= 3.5]\n",
    "high_rating_counts = high_ratings.groupby('userId')['movieId'].count()\n",
    "few_high_rating_users = high_rating_counts[high_rating_counts < 8].index\n",
    "print(f\"Użytkownicy z mniej niż 8 dobrze ocenionymi filmami: {few_high_rating_users}\")\n"
   ]
  },
  {
   "cell_type": "code",
   "execution_count": 10,
   "metadata": {},
   "outputs": [
    {
     "name": "stdout",
     "output_type": "stream",
     "text": [
      "<bound method Series.info of userId\n",
      "1          53\n",
      "2         125\n",
      "3         504\n",
      "4         155\n",
      "5          58\n",
      "         ... \n",
      "162537     74\n",
      "162538    104\n",
      "162539     43\n",
      "162540     64\n",
      "162541    107\n",
      "Name: movieId, Length: 162414, dtype: int64>\n",
      "<bound method DataFrame.info of           userId  movieId  rating       PC1       PC2       PC3       PC4  \\\n",
      "0              1      296     5.0  4.790098  2.207694  2.002849 -0.806388   \n",
      "1              1      306     3.5  2.693426 -1.425561 -0.187578  1.324501   \n",
      "2              1      307     5.0  2.663506 -1.833673  0.306733  1.546391   \n",
      "3              1      665     5.0  2.263750 -0.978720 -0.029237  0.822817   \n",
      "4              1      899     3.5  0.933350 -0.077969 -1.643742  0.459915   \n",
      "...          ...      ...     ...       ...       ...       ...       ...   \n",
      "25000090  162541    50872     4.5  0.559187  1.273428 -2.321054  1.638386   \n",
      "25000091  162541    55768     2.5 -1.746066  0.031802 -0.625601  0.815487   \n",
      "25000092  162541    56176     2.0 -2.387714  0.071047 -0.662184  0.240420   \n",
      "25000093  162541    58559     4.0  3.413871  4.498440  0.034262  0.502390   \n",
      "25000094  162541    63876     5.0  2.796650 -0.276839 -1.832958 -1.115833   \n",
      "\n",
      "               PC5       PC6       PC7  ...      PC41      PC42      PC43  \\\n",
      "0         2.117197  0.731730 -0.099305  ...  0.358711  0.340383 -0.369289   \n",
      "1        -0.620035  0.422823  0.742552  ... -0.357115 -0.332040 -0.235165   \n",
      "2        -0.493952  0.021804  0.473427  ... -0.297987 -0.200215 -0.388954   \n",
      "3        -0.605279  0.310908 -1.275393  ... -0.221017  0.119833 -0.323086   \n",
      "4         0.592612  1.574695 -0.545392  ... -0.026529 -0.122331 -0.202837   \n",
      "...            ...       ...       ...  ...       ...       ...       ...   \n",
      "25000090  0.761749  1.118073  0.543187  ...  0.069324  0.059894  0.119138   \n",
      "25000091  0.446195  0.708977 -0.206828  ... -0.060110 -0.035558 -0.038548   \n",
      "25000092  0.387865  0.295560 -0.066649  ... -0.058686  0.044672 -0.299649   \n",
      "25000093  0.015928 -0.438470 -0.537903  ... -0.284581 -0.294873  0.353162   \n",
      "25000094 -0.003553 -1.736217 -0.768257  ...  0.294949 -0.280803 -0.452400   \n",
      "\n",
      "              PC44      PC45      PC46      PC47      PC48      PC49      PC50  \n",
      "0        -0.303351 -0.451184  0.175248  0.191894 -0.316872 -0.217966 -0.121755  \n",
      "1         0.158166 -0.098188  0.214106 -0.043599 -0.020693 -0.112720 -0.324463  \n",
      "2        -0.005584  0.153104  0.241389 -0.036737  0.339161 -0.139606 -0.408529  \n",
      "3         0.053915 -0.030479  0.016510  0.255999 -0.275130 -0.170872 -0.175434  \n",
      "4         0.073611 -0.283299 -0.072528 -0.254080  0.165189  0.215744  0.332992  \n",
      "...            ...       ...       ...       ...       ...       ...       ...  \n",
      "25000090  0.184261 -0.204289 -0.067925 -0.062240  0.482483 -0.106978 -0.575242  \n",
      "25000091  0.232623 -0.034980  0.061718  0.043844  0.031697 -0.072872  0.045303  \n",
      "25000092 -0.003683 -0.254520  0.063889  0.118058 -0.131268 -0.017359 -0.099682  \n",
      "25000093 -0.490557 -0.081708  0.095110  0.482476 -0.110716  0.216012 -0.261350  \n",
      "25000094 -0.459887 -0.313721  0.741497  0.066474  0.116267 -0.213058 -0.156628  \n",
      "\n",
      "[25000095 rows x 53 columns]>\n"
     ]
    }
   ],
   "source": [
    "print(high_rating_counts.info)\n",
    "print(merged_table.info)"
   ]
  },
  {
   "cell_type": "markdown",
   "metadata": {},
   "source": [
    "Użytkowników którzy nie ocenili nawet 8 filmów dobrze postanowiłem usunąć, nie stanowią oni znaczącej liczby na tle wszystkich użytkowników, ale ich preferencje nie byłyby dobrze reprezentowane - filmy które wciąż ocenili słabo byłyby uznane za te które im się podobały"
   ]
  },
  {
   "cell_type": "code",
   "execution_count": 7,
   "metadata": {},
   "outputs": [],
   "source": [
    "merged_table = merged_table[~merged_table['userId'].isin(few_high_rating_users)]\n"
   ]
  },
  {
   "cell_type": "code",
   "execution_count": 8,
   "metadata": {},
   "outputs": [],
   "source": [
    "del few_high_rating_users, high_ratings"
   ]
  },
  {
   "cell_type": "code",
   "execution_count": 12,
   "metadata": {},
   "outputs": [
    {
     "data": {
      "text/plain": [
       "<bound method DataFrame.info of           userId  movieId  rating       PC1       PC2       PC3       PC4  \\\n",
       "0              1      296     5.0  4.790098  2.207694  2.002849 -0.806388   \n",
       "1              1      306     3.5  2.693426 -1.425561 -0.187578  1.324501   \n",
       "2              1      307     5.0  2.663506 -1.833673  0.306733  1.546391   \n",
       "3              1      665     5.0  2.263750 -0.978720 -0.029237  0.822817   \n",
       "4              1      899     3.5  0.933350 -0.077969 -1.643742  0.459915   \n",
       "...          ...      ...     ...       ...       ...       ...       ...   \n",
       "25000090  162541    50872     4.5  0.559187  1.273428 -2.321054  1.638386   \n",
       "25000091  162541    55768     2.5 -1.746066  0.031802 -0.625601  0.815487   \n",
       "25000092  162541    56176     2.0 -2.387714  0.071047 -0.662184  0.240420   \n",
       "25000093  162541    58559     4.0  3.413871  4.498440  0.034262  0.502390   \n",
       "25000094  162541    63876     5.0  2.796650 -0.276839 -1.832958 -1.115833   \n",
       "\n",
       "               PC5       PC6       PC7  ...      PC41      PC42      PC43  \\\n",
       "0         2.117197  0.731730 -0.099305  ...  0.358711  0.340383 -0.369289   \n",
       "1        -0.620035  0.422823  0.742552  ... -0.357115 -0.332040 -0.235165   \n",
       "2        -0.493952  0.021804  0.473427  ... -0.297987 -0.200215 -0.388954   \n",
       "3        -0.605279  0.310908 -1.275393  ... -0.221017  0.119833 -0.323086   \n",
       "4         0.592612  1.574695 -0.545392  ... -0.026529 -0.122331 -0.202837   \n",
       "...            ...       ...       ...  ...       ...       ...       ...   \n",
       "25000090  0.761749  1.118073  0.543187  ...  0.069324  0.059894  0.119138   \n",
       "25000091  0.446195  0.708977 -0.206828  ... -0.060110 -0.035558 -0.038548   \n",
       "25000092  0.387865  0.295560 -0.066649  ... -0.058686  0.044672 -0.299649   \n",
       "25000093  0.015928 -0.438470 -0.537903  ... -0.284581 -0.294873  0.353162   \n",
       "25000094 -0.003553 -1.736217 -0.768257  ...  0.294949 -0.280803 -0.452400   \n",
       "\n",
       "              PC44      PC45      PC46      PC47      PC48      PC49      PC50  \n",
       "0        -0.303351 -0.451184  0.175248  0.191894 -0.316872 -0.217966 -0.121755  \n",
       "1         0.158166 -0.098188  0.214106 -0.043599 -0.020693 -0.112720 -0.324463  \n",
       "2        -0.005584  0.153104  0.241389 -0.036737  0.339161 -0.139606 -0.408529  \n",
       "3         0.053915 -0.030479  0.016510  0.255999 -0.275130 -0.170872 -0.175434  \n",
       "4         0.073611 -0.283299 -0.072528 -0.254080  0.165189  0.215744  0.332992  \n",
       "...            ...       ...       ...       ...       ...       ...       ...  \n",
       "25000090  0.184261 -0.204289 -0.067925 -0.062240  0.482483 -0.106978 -0.575242  \n",
       "25000091  0.232623 -0.034980  0.061718  0.043844  0.031697 -0.072872  0.045303  \n",
       "25000092 -0.003683 -0.254520  0.063889  0.118058 -0.131268 -0.017359 -0.099682  \n",
       "25000093 -0.490557 -0.081708  0.095110  0.482476 -0.110716  0.216012 -0.261350  \n",
       "25000094 -0.459887 -0.313721  0.741497  0.066474  0.116267 -0.213058 -0.156628  \n",
       "\n",
       "[24923699 rows x 53 columns]>"
      ]
     },
     "execution_count": 12,
     "metadata": {},
     "output_type": "execute_result"
    }
   ],
   "source": [
    "merged_table.info"
   ]
  },
  {
   "cell_type": "markdown",
   "metadata": {},
   "source": [
    "Teraz tworzę dataframe któy zawiera po 20 cech 8 ulubionych filmów użytkownika"
   ]
  },
  {
   "cell_type": "code",
   "execution_count": 14,
   "metadata": {},
   "outputs": [],
   "source": [
    "# Grupowanie danych według userId\n",
    "grouped = merged_table.groupby('userId')\n",
    "top_movies = pd.DataFrame()\n",
    "\n",
    "# Iterowanie po każdej użytkowniku\n",
    "for user_id, group in grouped:\n",
    "    # Wybór 5 najwyżej ocenionych filmów\n",
    "    top_8 = group.nlargest(8, 'rating')[[f'PC{i}' for i in range(1, 21)]]\n",
    "    top_8['userId'] = user_id\n",
    "    top_8.set_index('userId', inplace=True)\n",
    "    top_movies = pd.concat([top_movies, top_8])\n",
    "top_movies.to_csv('my_dataframe50.csv')"
   ]
  },
  {
   "cell_type": "code",
   "execution_count": null,
   "metadata": {},
   "outputs": [],
   "source": [
    "top_movies = pd.read_csv(\"my_dataframe50.csv\")"
   ]
  },
  {
   "cell_type": "markdown",
   "metadata": {},
   "source": [
    "Przekształcenie aby jeden wiersz to był jeden użytkownik"
   ]
  },
  {
   "cell_type": "code",
   "execution_count": 15,
   "metadata": {},
   "outputs": [
    {
     "name": "stdout",
     "output_type": "stream",
     "text": [
      "             0         1         2         3         4         5         6    \\\n",
      "userId                                                                         \n",
      "1       4.790098  2.207694  2.002849 -0.806388  2.117197  0.731730 -0.099305   \n",
      "2       3.330963  3.788509 -2.730249 -0.276790 -0.872171 -1.135900 -2.019694   \n",
      "3       4.883277  3.574432  0.381488 -1.443604  0.409084  0.900919  1.685152   \n",
      "4       3.079362  0.914624 -0.783292  2.889891  0.290714  0.223217 -0.157300   \n",
      "5       3.366516  2.474216  1.309108  2.325339 -0.518855 -0.273005  2.077715   \n",
      "...          ...       ...       ...       ...       ...       ...       ...   \n",
      "162537 -1.663682 -0.165000  0.029665 -0.354176  0.803061  0.754588 -0.456280   \n",
      "162538  2.522591  0.744685 -2.773206  0.156623  1.287698 -1.800512 -0.298726   \n",
      "162539  0.473097  1.862396 -0.821913 -0.974014 -2.013950  0.011871 -0.453719   \n",
      "162540  0.212213  1.669061 -3.034899  0.528556 -0.617563 -1.485761 -0.070755   \n",
      "162541  2.861801  0.566817  1.329589  3.521761 -0.284649  0.516507  1.134190   \n",
      "\n",
      "             7         8         9    ...       150       151       152  \\\n",
      "userId                                ...                                 \n",
      "1      -0.710337 -0.920551 -0.638551  ... -0.497566  0.099834  0.400926   \n",
      "2      -0.047566 -0.636807  1.494291  ...  1.162491 -0.209768 -0.805701   \n",
      "3       0.560217  0.051429 -0.537810  ... -0.464884 -0.597708 -1.014532   \n",
      "4       1.424282 -1.401606 -0.202039  ...  0.301328 -0.911415  0.464675   \n",
      "5       0.111245  1.748198 -1.222377  ...  1.070813 -0.466055 -1.048920   \n",
      "...          ...       ...       ...  ...       ...       ...       ...   \n",
      "162537 -0.633920  0.774251 -0.247852  ... -0.017678  0.074898  0.360581   \n",
      "162538  0.257261 -0.262693 -0.406490  ... -0.090643 -0.930543  0.748418   \n",
      "162539 -0.722653  1.170144  0.148388  ...  0.151219 -0.016841  0.414715   \n",
      "162540  0.441887  0.087104  1.270169  ...  0.427984  0.075692  0.067925   \n",
      "162541  0.622716 -0.411125 -0.155239  ... -1.047738  0.146154 -1.438742   \n",
      "\n",
      "             153       154       155       156       157       158       159  \n",
      "userId                                                                        \n",
      "1      -0.564998 -0.772499 -0.144272  0.115113  0.441226  1.125570 -1.041711  \n",
      "2       0.503035 -0.318690 -0.343639 -0.420731  0.829574 -0.912133 -0.824399  \n",
      "3      -0.750614 -0.228934  0.126437  1.042734  0.615018  0.860686 -0.627288  \n",
      "4       0.824975 -0.592158 -0.887654 -0.431279  0.108351 -0.038511 -0.994494  \n",
      "5       0.507031 -0.540698 -0.352009 -0.405776  0.527342 -0.732919 -0.830948  \n",
      "...          ...       ...       ...       ...       ...       ...       ...  \n",
      "162537 -0.785067 -0.638855  0.367528 -0.369096  0.234665  0.877824 -1.503406  \n",
      "162538 -0.423890 -0.096489  0.025918 -0.558275  0.004423 -0.010175 -0.060891  \n",
      "162539  0.092638  0.108168 -0.728418  0.212595  0.986496  0.635490 -0.960796  \n",
      "162540 -0.045559  0.195293  0.155740  0.112898 -0.508317  0.340077 -0.104496  \n",
      "162541  0.325830 -0.615547  0.827867  1.384038 -0.007320 -0.359245  0.024520  \n",
      "\n",
      "[159709 rows x 160 columns]\n"
     ]
    }
   ],
   "source": [
    "n = 8 \n",
    "arr = top_movies.to_numpy().reshape(-1, n * top_movies.shape[1])\n",
    "new_df = pd.DataFrame(arr, index=top_movies.index.unique())\n",
    "print(new_df)"
   ]
  },
  {
   "cell_type": "code",
   "execution_count": 16,
   "metadata": {},
   "outputs": [],
   "source": [
    "new_df.to_csv('my_dataframe50.csv')"
   ]
  },
  {
   "cell_type": "code",
   "execution_count": 10,
   "metadata": {},
   "outputs": [],
   "source": [
    "import pandas as pd\n",
    "new_dfw = pd.read_csv(\"my_dataframe50.csv\")"
   ]
  },
  {
   "cell_type": "code",
   "execution_count": 19,
   "metadata": {},
   "outputs": [
    {
     "name": "stdout",
     "output_type": "stream",
     "text": [
      "<class 'pandas.core.frame.DataFrame'>\n",
      "RangeIndex: 159709 entries, 0 to 159708\n",
      "Columns: 161 entries, userId to 159\n",
      "dtypes: float64(160), int64(1)\n",
      "memory usage: 196.2 MB\n",
      "None\n"
     ]
    }
   ],
   "source": [
    "print(new_dfw.info())"
   ]
  },
  {
   "cell_type": "code",
   "execution_count": 9,
   "metadata": {},
   "outputs": [],
   "source": [
    "del  rat, data,  gs,reduced_df, reduced_features,movie,tag,gt"
   ]
  },
  {
   "cell_type": "markdown",
   "metadata": {},
   "source": [
    "Scalam dataframy tak aby w jednym wierszu tak by do kazdej oceny filmu w merge oprócz useraId byl wektor reprezentujący jego ulubione filmy."
   ]
  },
  {
   "cell_type": "code",
   "execution_count": 11,
   "metadata": {},
   "outputs": [
    {
     "name": "stdout",
     "output_type": "stream",
     "text": [
      "            userId  movieId  rating       PC1       PC2       PC3       PC4  \\\n",
      "0              1.0    296.0     5.0  4.790098  2.207694  2.002849 -0.806388   \n",
      "1              1.0    306.0     3.5  2.693426 -1.425560 -0.187578  1.324501   \n",
      "2              1.0    307.0     5.0  2.663507 -1.833673  0.306733  1.546391   \n",
      "3              1.0    665.0     5.0  2.263750 -0.978720 -0.029237  0.822817   \n",
      "4              1.0    899.0     3.5  0.933350 -0.077969 -1.643742  0.459915   \n",
      "...            ...      ...     ...       ...       ...       ...       ...   \n",
      "24923694  162541.0  50872.0     4.5  0.559187  1.273428 -2.321054  1.638386   \n",
      "24923695  162541.0  55768.0     2.5 -1.746066  0.031802 -0.625601  0.815487   \n",
      "24923696  162541.0  56176.0     2.0 -2.387714  0.071047 -0.662184  0.240420   \n",
      "24923697  162541.0  58559.0     4.0  3.413871  4.498440  0.034262  0.502390   \n",
      "24923698  162541.0  63876.0     5.0  2.796650 -0.276839 -1.832958 -1.115833   \n",
      "\n",
      "               PC5       PC6       PC7  ...       150       151       152  \\\n",
      "0         2.117197  0.731730 -0.099305  ... -0.497566  0.099834  0.400926   \n",
      "1        -0.620035  0.422823  0.742552  ... -0.497566  0.099834  0.400926   \n",
      "2        -0.493952  0.021804  0.473427  ... -0.497566  0.099834  0.400926   \n",
      "3        -0.605279  0.310908 -1.275393  ... -0.497566  0.099834  0.400926   \n",
      "4         0.592613  1.574695 -0.545392  ... -0.497566  0.099834  0.400926   \n",
      "...            ...       ...       ...  ...       ...       ...       ...   \n",
      "24923694  0.761749  1.118073  0.543187  ... -1.047738  0.146154 -1.438742   \n",
      "24923695  0.446195  0.708977 -0.206828  ... -1.047738  0.146154 -1.438742   \n",
      "24923696  0.387865  0.295560 -0.066649  ... -1.047738  0.146154 -1.438742   \n",
      "24923697  0.015928 -0.438470 -0.537903  ... -1.047738  0.146154 -1.438742   \n",
      "24923698 -0.003553 -1.736217 -0.768257  ... -1.047738  0.146154 -1.438742   \n",
      "\n",
      "               153       154       155       156       157       158       159  \n",
      "0        -0.564998 -0.772499 -0.144272  0.115113  0.441226  1.125570 -1.041711  \n",
      "1        -0.564998 -0.772499 -0.144272  0.115113  0.441226  1.125570 -1.041711  \n",
      "2        -0.564998 -0.772499 -0.144272  0.115113  0.441226  1.125570 -1.041711  \n",
      "3        -0.564998 -0.772499 -0.144272  0.115113  0.441226  1.125570 -1.041711  \n",
      "4        -0.564998 -0.772499 -0.144272  0.115113  0.441226  1.125570 -1.041711  \n",
      "...            ...       ...       ...       ...       ...       ...       ...  \n",
      "24923694  0.325830 -0.615547  0.827867  1.384037 -0.007320 -0.359245  0.024520  \n",
      "24923695  0.325830 -0.615547  0.827867  1.384037 -0.007320 -0.359245  0.024520  \n",
      "24923696  0.325830 -0.615547  0.827867  1.384037 -0.007320 -0.359245  0.024520  \n",
      "24923697  0.325830 -0.615547  0.827867  1.384037 -0.007320 -0.359245  0.024520  \n",
      "24923698  0.325830 -0.615547  0.827867  1.384037 -0.007320 -0.359245  0.024520  \n",
      "\n",
      "[24923699 rows x 213 columns]\n"
     ]
    }
   ],
   "source": [
    "new_dfw=new_dfw.astype('float32')\n",
    "merged_table=merged_table.astype('float32')\n",
    "result = pd.merge(merged_table, new_dfw, on='userId')\n",
    "\n",
    "print(result)"
   ]
  },
  {
   "cell_type": "code",
   "execution_count": 13,
   "metadata": {},
   "outputs": [
    {
     "name": "stdout",
     "output_type": "stream",
     "text": [
      "<class 'pandas.core.frame.DataFrame'>\n",
      "RangeIndex: 24923699 entries, 0 to 24923698\n",
      "Columns: 213 entries, userId to 159\n",
      "dtypes: float32(213)\n",
      "memory usage: 19.8 GB\n",
      "None\n",
      "463513\n"
     ]
    }
   ],
   "source": [
    "\n",
    "print(result.info())\n",
    "\n",
    "print(result.isnull().any(axis=1).sum())\n"
   ]
  },
  {
   "cell_type": "code",
   "execution_count": 12,
   "metadata": {},
   "outputs": [],
   "source": [
    "del merged_table, new_dfw"
   ]
  },
  {
   "cell_type": "code",
   "execution_count": 13,
   "metadata": {},
   "outputs": [],
   "source": [
    "result=result.dropna()\n"
   ]
  },
  {
   "cell_type": "code",
   "execution_count": 14,
   "metadata": {},
   "outputs": [],
   "source": [
    "from sklearn.model_selection import train_test_split\n",
    "\n",
    "y = result['rating']\n",
    "X = result.drop(['userId', 'movieId', 'rating'], axis=1)"
   ]
  },
  {
   "cell_type": "code",
   "execution_count": 15,
   "metadata": {},
   "outputs": [],
   "source": [
    "del result"
   ]
  },
  {
   "cell_type": "code",
   "execution_count": 16,
   "metadata": {},
   "outputs": [],
   "source": [
    "\n",
    "X_train, X_test, y_train, y_test = train_test_split(X, y, test_size=0.2, random_state=42)\n",
    "\n"
   ]
  },
  {
   "cell_type": "code",
   "execution_count": 17,
   "metadata": {},
   "outputs": [],
   "source": [
    "del X,y"
   ]
  },
  {
   "cell_type": "markdown",
   "metadata": {},
   "source": [
    "Wektory gotowe aby dać je na wejście sieci"
   ]
  },
  {
   "cell_type": "code",
   "execution_count": 18,
   "metadata": {},
   "outputs": [],
   "source": [
    "vector_1, vector_2=X_train.iloc[:, :50], X_train.iloc[:, 50:]"
   ]
  },
  {
   "cell_type": "code",
   "execution_count": 19,
   "metadata": {},
   "outputs": [],
   "source": [
    "del X_train"
   ]
  },
  {
   "cell_type": "markdown",
   "metadata": {},
   "source": [
    "Zdecydowałem się głownie na funkcje aktywacji Leaky Relu ze względu na to że sporo danych wejściowych to liczby ujemne, więc wolę uniknąć martwych neuronów.\n"
   ]
  },
  {
   "cell_type": "code",
   "execution_count": 21,
   "metadata": {},
   "outputs": [],
   "source": [
    "from keras.layers import Input, Dense, concatenate\n",
    "from keras.models import Model\n",
    "from keras.initializers import he_normal\n",
    "\n",
    "from keras.layers import LeakyReLU\n",
    "import numpy as np\n",
    "from keras.layers import Activation, Lambda\n",
    "\n",
    "input_1 = Input(shape=(160,))\n",
    "input_2 = Input(shape=(50,))\n",
    "\n",
    "hidden_1 = Dense(160,kernel_initializer=he_normal())(input_1)\n",
    "hidden_1 = LeakyReLU(alpha=0.01)(hidden_1)\n",
    "hidden_11 = Dense(50,kernel_initializer=he_normal())(hidden_1)\n",
    "hidden_11 = LeakyReLU(alpha=0.01)(hidden_11)\n",
    "hidden_2 = Dense(50,kernel_initializer=he_normal())(input_2)\n",
    "hidden_2 = LeakyReLU(alpha=0.01)(hidden_2)\n",
    "\n",
    "concatenated = concatenate([hidden_11, hidden_2])\n",
    "hidden_ac = Dense(100,kernel_initializer=he_normal())(concatenated)\n",
    "hidden_ac = LeakyReLU(alpha=0.01)(hidden_ac)\n",
    "hidden_ac1 = Dense(100,kernel_initializer=he_normal())(hidden_ac)\n",
    "hidden_ac1 = LeakyReLU(alpha=0.01)(hidden_ac1)\n",
    "hidden_ac2 = Dense(100,kernel_initializer=he_normal())(hidden_ac1)\n",
    "hidden_ac2 = LeakyReLU(alpha=0.01)(hidden_ac2)\n",
    "hidden_ac3 = Dense(100,kernel_initializer=he_normal())(hidden_ac2)\n",
    "hidden_ac3 = LeakyReLU(alpha=0.01)(hidden_ac3)\n",
    "\n",
    "output = Dense(1)(hidden_ac3)\n",
    "output = Activation('sigmoid')(output)\n",
    "output = Lambda(lambda x: x * 5)(output)\n",
    "\n",
    "model = Model(inputs=[input_1, input_2], outputs=output)\n",
    "\n",
    "model.compile(optimizer='adam', loss='mean_squared_error')"
   ]
  },
  {
   "cell_type": "markdown",
   "metadata": {},
   "source": [
    "Postanowiłem zastosować Early Stopping w celu uniknięcia overfittingu"
   ]
  },
  {
   "cell_type": "code",
   "execution_count": 22,
   "metadata": {},
   "outputs": [
    {
     "name": "stdout",
     "output_type": "stream",
     "text": [
      "Epoch 1/50\n",
      "550355/550355 [==============================] - 1533s 3ms/step - loss: 0.7747 - val_loss: 0.7548\n",
      "Epoch 2/50\n"
     ]
    },
    {
     "name": "stderr",
     "output_type": "stream",
     "text": [
      "c:\\Users\\kubap\\AppData\\Local\\Programs\\Python\\Python311\\Lib\\site-packages\\keras\\src\\engine\\training.py:3000: UserWarning: You are saving your model as an HDF5 file via `model.save()`. This file format is considered legacy. We recommend using instead the native Keras format, e.g. `model.save('my_model.keras')`.\n",
      "  saving_api.save_model(\n"
     ]
    },
    {
     "name": "stdout",
     "output_type": "stream",
     "text": [
      "550355/550355 [==============================] - 1273s 2ms/step - loss: 0.7432 - val_loss: 0.7394\n",
      "Epoch 3/50\n",
      "550355/550355 [==============================] - 1252s 2ms/step - loss: 0.7350 - val_loss: 0.7405\n",
      "Epoch 4/50\n",
      "550355/550355 [==============================] - 1238s 2ms/step - loss: 0.7303 - val_loss: 0.7288\n",
      "Epoch 5/50\n",
      "550355/550355 [==============================] - 1266s 2ms/step - loss: 0.7271 - val_loss: 0.7315\n",
      "Epoch 6/50\n",
      "550355/550355 [==============================] - 1276s 2ms/step - loss: 0.7251 - val_loss: 0.7253\n",
      "Epoch 7/50\n",
      "550355/550355 [==============================] - 1262s 2ms/step - loss: 0.7228 - val_loss: 0.7216\n",
      "Epoch 8/50\n",
      "550355/550355 [==============================] - 1270s 2ms/step - loss: 0.7244 - val_loss: 0.7314\n",
      "Epoch 9/50\n",
      "550355/550355 [==============================] - 1270s 2ms/step - loss: 0.7343 - val_loss: 0.7751\n",
      "Epoch 10/50\n",
      "550355/550355 [==============================] - 1253s 2ms/step - loss: 1.4436 - val_loss: 3.2379\n"
     ]
    },
    {
     "data": {
      "text/plain": [
       "<keras.src.callbacks.History at 0x1b62a43a990>"
      ]
     },
     "execution_count": 22,
     "metadata": {},
     "output_type": "execute_result"
    }
   ],
   "source": [
    "from keras.callbacks import ModelCheckpoint, EarlyStopping,TensorBoard\n",
    "\n",
    "\n",
    "model_checkpoint = ModelCheckpoint(\"recommendation_model3.h5\", save_best_only=True)\n",
    "early_stopping = EarlyStopping(patience=3, restore_best_weights=True)\n",
    "tensorboard = TensorBoard(log_dir=\"logs\")\n",
    "\n",
    "\n",
    "\n",
    "model.fit([vector_2,vector_1], y_train, epochs=50, batch_size=32, validation_split=0.1, callbacks=[model_checkpoint, early_stopping, tensorboard])"
   ]
  },
  {
   "cell_type": "code",
   "execution_count": 23,
   "metadata": {},
   "outputs": [],
   "source": [
    "vector_1t = X_test.iloc[:, :50]\n",
    "vector_2t = X_test.iloc[:, 50:]\n",
    "\n",
    "del X_test"
   ]
  },
  {
   "cell_type": "markdown",
   "metadata": {},
   "source": [
    "Ostateczny test - błąd MSE w okolicy 0.72, przy ocenianiu od 0-5 uznaje go za odpowiedni do znalezienia paru filmów które powinny się spodobać użytkownikowi."
   ]
  },
  {
   "cell_type": "code",
   "execution_count": 24,
   "metadata": {},
   "outputs": [
    {
     "name": "stdout",
     "output_type": "stream",
     "text": [
      "152877/152877 [==============================] - 193s 1ms/step - loss: 0.7225\n"
     ]
    },
    {
     "data": {
      "text/plain": [
       "0.7225148677825928"
      ]
     },
     "execution_count": 24,
     "metadata": {},
     "output_type": "execute_result"
    }
   ],
   "source": [
    "model.evaluate([vector_2t,vector_1t], y_test)"
   ]
  },
  {
   "cell_type": "code",
   "execution_count": 25,
   "metadata": {},
   "outputs": [
    {
     "name": "stdout",
     "output_type": "stream",
     "text": [
      "Model: \"model_1\"\n",
      "__________________________________________________________________________________________________\n",
      " Layer (type)                Output Shape                 Param #   Connected to                  \n",
      "==================================================================================================\n",
      " input_3 (InputLayer)        [(None, 160)]                0         []                            \n",
      "                                                                                                  \n",
      " dense_8 (Dense)             (None, 160)                  25760     ['input_3[0][0]']             \n",
      "                                                                                                  \n",
      " leaky_re_lu_7 (LeakyReLU)   (None, 160)                  0         ['dense_8[0][0]']             \n",
      "                                                                                                  \n",
      " input_4 (InputLayer)        [(None, 50)]                 0         []                            \n",
      "                                                                                                  \n",
      " dense_9 (Dense)             (None, 50)                   8050      ['leaky_re_lu_7[0][0]']       \n",
      "                                                                                                  \n",
      " dense_10 (Dense)            (None, 50)                   2550      ['input_4[0][0]']             \n",
      "                                                                                                  \n",
      " leaky_re_lu_8 (LeakyReLU)   (None, 50)                   0         ['dense_9[0][0]']             \n",
      "                                                                                                  \n",
      " leaky_re_lu_9 (LeakyReLU)   (None, 50)                   0         ['dense_10[0][0]']            \n",
      "                                                                                                  \n",
      " concatenate_1 (Concatenate  (None, 100)                  0         ['leaky_re_lu_8[0][0]',       \n",
      " )                                                                   'leaky_re_lu_9[0][0]']       \n",
      "                                                                                                  \n",
      " dense_11 (Dense)            (None, 100)                  10100     ['concatenate_1[0][0]']       \n",
      "                                                                                                  \n",
      " leaky_re_lu_10 (LeakyReLU)  (None, 100)                  0         ['dense_11[0][0]']            \n",
      "                                                                                                  \n",
      " dense_12 (Dense)            (None, 100)                  10100     ['leaky_re_lu_10[0][0]']      \n",
      "                                                                                                  \n",
      " leaky_re_lu_11 (LeakyReLU)  (None, 100)                  0         ['dense_12[0][0]']            \n",
      "                                                                                                  \n",
      " dense_13 (Dense)            (None, 100)                  10100     ['leaky_re_lu_11[0][0]']      \n",
      "                                                                                                  \n",
      " leaky_re_lu_12 (LeakyReLU)  (None, 100)                  0         ['dense_13[0][0]']            \n",
      "                                                                                                  \n",
      " dense_14 (Dense)            (None, 100)                  10100     ['leaky_re_lu_12[0][0]']      \n",
      "                                                                                                  \n",
      " leaky_re_lu_13 (LeakyReLU)  (None, 100)                  0         ['dense_14[0][0]']            \n",
      "                                                                                                  \n",
      " dense_15 (Dense)            (None, 1)                    101       ['leaky_re_lu_13[0][0]']      \n",
      "                                                                                                  \n",
      " activation_1 (Activation)   (None, 1)                    0         ['dense_15[0][0]']            \n",
      "                                                                                                  \n",
      " lambda_1 (Lambda)           (None, 1)                    0         ['activation_1[0][0]']        \n",
      "                                                                                                  \n",
      "==================================================================================================\n",
      "Total params: 76861 (300.24 KB)\n",
      "Trainable params: 76861 (300.24 KB)\n",
      "Non-trainable params: 0 (0.00 Byte)\n",
      "__________________________________________________________________________________________________\n"
     ]
    }
   ],
   "source": [
    "model.summary()"
   ]
  },
  {
   "cell_type": "markdown",
   "metadata": {},
   "source": [
    "Poniżej jest kod dzięki któremu wpisując MovieId danych ulubionych filmów mozna sprawdzic predykcje dla innych filmów.\n",
    "Na początku tworzy wektor reprezentujący użytkownika. Kod wykorzystuje dataframe reduced_df  ktory został stworzony na początku."
   ]
  },
  {
   "cell_type": "code",
   "execution_count": null,
   "metadata": {},
   "outputs": [],
   "source": [
    "rows = reduced_df.loc[[168492,31148,192383,168492,31148,192383,168492,31148], ['PC' + str(i) for i in range(1, 21)]]\n",
    "vector_usera=rows.stack().reset_index(drop=True)\n",
    "input1pr = np.array(vector_usera).reshape(1, -1)"
   ]
  },
  {
   "cell_type": "markdown",
   "metadata": {},
   "source": [
    "Tutaj można sprawdzić predykcje dla jednego konkretnego filmu."
   ]
  },
  {
   "cell_type": "code",
   "execution_count": null,
   "metadata": {},
   "outputs": [],
   "source": [
    "vector_movie=reduced_df.loc[[858]]\n",
    "input2pr = np.array(vector_movie).reshape(1, -1)\n",
    "predictions = model.predict([input1pr,input2pr])\n",
    "print(predictions)"
   ]
  },
  {
   "cell_type": "markdown",
   "metadata": {},
   "source": [
    "Kod poniżej przeszukuje cały zbior filmów tworząc słownik tych ocenianych powyżej 4.0"
   ]
  },
  {
   "cell_type": "code",
   "execution_count": null,
   "metadata": {},
   "outputs": [],
   "source": [
    "maxim=1\n",
    "the_bests=1\n",
    "ff={}\n",
    "selected_indexes = reduced_df.index[(reduced_df.index >= 1) & (reduced_df.index < 209171)]\n",
    "for i in selected_indexes:\n",
    "    vector_movie=reduced_df.loc[[i]]\n",
    "    input2pr = np.array(vector_movie).reshape(1, -1)\n",
    "    predictions = model.predict([input1pr,input2pr])\n",
    "    print(i)\n",
    "    print(\"bestie\",the_bests, maxim)\n",
    "    if predictions>4.0:\n",
    "        ff[i]=predictions\n",
    "    if predictions>maxim:\n",
    "        the_bests=i\n",
    "        maxim=predictions\n",
    "       "
   ]
  },
  {
   "cell_type": "markdown",
   "metadata": {},
   "source": [
    "Kod który pomaga w czytelności, ztworzy słownik który podaje tytuły."
   ]
  },
  {
   "cell_type": "code",
   "execution_count": null,
   "metadata": {},
   "outputs": [],
   "source": [
    "\n",
    "film_data = {}\n",
    "\n",
    "for movie_id, prediction in ff.items():\n",
    "    row_index = movie[movie['movieId'] == movie_id].index[0]\n",
    "    \n",
    "    film_title = movie.loc[row_index, 'title']\n",
    "    \n",
    "    film_data[film_title] = prediction[0][0]\n",
    "\n",
    "\n"
   ]
  },
  {
   "cell_type": "markdown",
   "metadata": {},
   "source": [
    "Sortuje i wyświetla ostateczny wynik."
   ]
  },
  {
   "cell_type": "code",
   "execution_count": null,
   "metadata": {},
   "outputs": [],
   "source": [
    "sorted_dict = dict(sorted(film_data.items(), key=lambda item: item[1], reverse=True))\n",
    "\n",
    "print(sorted_dict)"
   ]
  }
 ],
 "metadata": {
  "kernelspec": {
   "display_name": "Python 3",
   "language": "python",
   "name": "python3"
  },
  "language_info": {
   "codemirror_mode": {
    "name": "ipython",
    "version": 3
   },
   "file_extension": ".py",
   "mimetype": "text/x-python",
   "name": "python",
   "nbconvert_exporter": "python",
   "pygments_lexer": "ipython3",
   "version": "3.11.4"
  },
  "orig_nbformat": 4
 },
 "nbformat": 4,
 "nbformat_minor": 2
}
